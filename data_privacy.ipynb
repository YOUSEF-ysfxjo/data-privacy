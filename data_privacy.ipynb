{
 "cells": [
  {
   "cell_type": "code",
   "execution_count": null,
   "id": "3a48c737",
   "metadata": {},
   "outputs": [],
   "source": [
    "import pandas as pd"
   ]
  },
  {
   "cell_type": "code",
   "execution_count": null,
   "id": "221c4eac",
   "metadata": {},
   "outputs": [],
   "source": [
    "df = pd.read_csv('Customers.csv')"
   ]
  },
  {
   "cell_type": "code",
   "execution_count": null,
   "id": "143c9a6c",
   "metadata": {},
   "outputs": [],
   "source": [
    "df.head()"
   ]
  },
  {
   "cell_type": "code",
   "execution_count": null,
   "id": "1f2b2097",
   "metadata": {},
   "outputs": [],
   "source": [
    "df.describe()"
   ]
  },
  {
   "cell_type": "code",
   "execution_count": null,
   "id": "1f068dc8",
   "metadata": {},
   "outputs": [],
   "source": [
    "df['Age'].hist(bins=20)"
   ]
  },
  {
   "cell_type": "code",
   "execution_count": null,
   "id": "37520522",
   "metadata": {},
   "outputs": [],
   "source": [
    "df['Annual Income ($)'].hist(bins=15)"
   ]
  },
  {
   "cell_type": "code",
   "execution_count": null,
   "id": "aa7e7f14",
   "metadata": {},
   "outputs": [],
   "source": [
    "df.columns"
   ]
  },
  {
   "cell_type": "markdown",
   "id": "a6e20554",
   "metadata": {},
   "source": [
    "### PII\n",
    "- CustomerID\n",
    "\n",
    "### SPII/ Senstivie\n",
    "- Annual Income ($)\n",
    "- Spending Score (1-100)\n",
    "- Family Size\n",
    "\n",
    "### Safe\n",
    "- Gender\n",
    "- Age\n",
    "- Work Experince (could be SPII)"
   ]
  },
  {
   "cell_type": "code",
   "execution_count": null,
   "id": "6752ddae",
   "metadata": {},
   "outputs": [],
   "source": [
    "import re\n",
    "\n",
    "df.columns = [re.sub(r\"\\(.*?\\)\", \"\", col) for col in df.columns]\n",
    "df.columns = [re.sub(r\"\\$\", \"\", col) for col in df.columns]\n",
    "df.columns = [col.strip() for col in df.columns]"
   ]
  },
  {
   "cell_type": "code",
   "execution_count": null,
   "id": "1cbbb4d7",
   "metadata": {},
   "outputs": [],
   "source": [
    "df.columns"
   ]
  },
  {
   "cell_type": "code",
   "execution_count": null,
   "id": "e2196973",
   "metadata": {},
   "outputs": [],
   "source": [
    "df_suupressed = df.drop(columns='CustomerID')\n",
    "df_suupressed.head()"
   ]
  },
  {
   "cell_type": "code",
   "execution_count": null,
   "id": "4cc168fd",
   "metadata": {},
   "outputs": [],
   "source": [
    "df_suupressed = df_suupressed.loc[:, ~df_suupressed.columns.duplicated()]\n",
    "\n",
    "df_suupressed.dtypes\n"
   ]
  },
  {
   "cell_type": "code",
   "execution_count": null,
   "id": "47049478",
   "metadata": {},
   "outputs": [],
   "source": [
    "df_suupressed['Age'].plot(kind='box')"
   ]
  },
  {
   "cell_type": "code",
   "execution_count": null,
   "id": "b7121980",
   "metadata": {},
   "outputs": [],
   "source": [
    "df_suupressed['Annual Income'].plot(kind='box')"
   ]
  },
  {
   "cell_type": "code",
   "execution_count": null,
   "id": "aca6ca96",
   "metadata": {},
   "outputs": [],
   "source": [
    "df_masked = df_suupressed.copy()\n",
    "\n",
    "df_masked['Annual Income'] = df_masked['Annual Income'].astype(str).apply(lambda x: '*' * (len(x)-2) + x[-3:])\n",
    "df_masked['Annual Income'].head()"
   ]
  },
  {
   "cell_type": "code",
   "execution_count": null,
   "id": "ea8a3a60",
   "metadata": {},
   "outputs": [],
   "source": [
    "!pip install faker"
   ]
  },
  {
   "cell_type": "code",
   "execution_count": null,
   "id": "1484dd47",
   "metadata": {},
   "outputs": [],
   "source": [
    "from faker import Faker\n",
    "\n",
    "fake = Faker()\n",
    "\n",
    "df_faker = df_masked.copy()\n",
    "\n",
    "df_faker['Email'] = [fake.email() for _ in range(len(df_faker))]\n",
    "df_faker.head()"
   ]
  },
  {
   "cell_type": "code",
   "execution_count": null,
   "id": "2a60422c",
   "metadata": {},
   "outputs": [],
   "source": [
    "df_faker['Profession'] = [fake.job() for _ in range(len(df_faker))]\n",
    "df_faker['Profession'].head()"
   ]
  },
  {
   "cell_type": "code",
   "execution_count": null,
   "id": "6f7ba141",
   "metadata": {},
   "outputs": [],
   "source": [
    "bins = [0, 20, 40, 60, 80, 100] \n",
    "labels = [\"<=20\", \"20-40\", \"40-60\", \"60-80\", \"80+\"]\n",
    "df_gen = df.copy()\n",
    "df_gen['Age Group'] = pd.cut(df_gen['Age'], bins=bins, labels=labels)\n",
    "\n",
    "df_gen[['Age', 'Age Group']].head(10)"
   ]
  },
  {
   "cell_type": "code",
   "execution_count": null,
   "id": "960b4841",
   "metadata": {},
   "outputs": [],
   "source": [
    "df_gen['Annual Income'] = df_gen['Annual Income'].astype(int)\n"
   ]
  },
  {
   "cell_type": "code",
   "execution_count": null,
   "id": "5aa6e9ab",
   "metadata": {},
   "outputs": [],
   "source": [
    "bins_income = [0, 50000, 100000, 200000]\n",
    "labels_income = [\"Low\", \"Medium\", \"High\"]\n",
    "\n",
    "df_gen['Income Group'] = pd.cut(df_gen['Annual Income'], bins=bins_income, labels=labels_income)\n",
    "\n",
    "df_gen[['Annual Income', 'Income Group']] \n"
   ]
  },
  {
   "cell_type": "code",
   "execution_count": null,
   "id": "31ddaddb",
   "metadata": {},
   "outputs": [],
   "source": [
    "df_tbc = df.copy()\n",
    "\n",
    "df_tbc['Age TBC'] = df_tbc['Age'].apply(lambda x: \"<20\" if x < 20 else (\"70+\" if x > 70 else x))\n",
    "df_tbc[['Age', 'Age TBC']]\n"
   ]
  },
  {
   "cell_type": "code",
   "execution_count": null,
   "id": "1a1c2a1c",
   "metadata": {},
   "outputs": [],
   "source": [
    "df['Profession'].unique()"
   ]
  },
  {
   "cell_type": "code",
   "execution_count": null,
   "id": "7f7f226c",
   "metadata": {},
   "outputs": [],
   "source": [
    "profession_map = {\n",
    "    'Healthcare': 'Medical',\n",
    "    'Doctor': 'Medical',\n",
    "    'Engineer': 'Technical',\n",
    "    'Executive': 'Management',\n",
    "    'Lawyer': 'Legal',\n",
    "    'Artist': 'Creative',\n",
    "    'Entertainment': 'Creative',\n",
    "    'Marketing': 'Business',\n",
    "    'Homemaker': 'Other'\n",
    "}\n",
    "\n",
    "df_categorical = df_tbc.copy()\n",
    "df_categorical['Profession Group'] = df_categorical['Profession'].map(profession_map).fillna('Other')\n",
    "\n",
    "df_categorical[['Profession', 'Profession Group']].head(10)\n"
   ]
  },
  {
   "cell_type": "code",
   "execution_count": null,
   "id": "4fc60dae",
   "metadata": {},
   "outputs": [],
   "source": [
    "df_categorical.columns"
   ]
  },
  {
   "cell_type": "code",
   "execution_count": null,
   "id": "bf3f207b",
   "metadata": {},
   "outputs": [],
   "source": [
    "qi_cols = ['Age TBC', 'Gender', 'Profession Group']\n",
    "k_values = df_categorical.groupby(qi_cols).size()\n",
    "min_k = k_values.min()\n",
    "min_k\n"
   ]
  },
  {
   "cell_type": "code",
   "execution_count": null,
   "id": "c3aab788",
   "metadata": {},
   "outputs": [],
   "source": [
    "violations = k_values[k_values < 3]\n",
    "violations.index"
   ]
  },
  {
   "cell_type": "code",
   "execution_count": null,
   "id": "ec79b7a1",
   "metadata": {},
   "outputs": [],
   "source": [
    "rare_groups = violations.index\n",
    "df_k = df_categorical.set_index(qi_cols)\n",
    "df_k = df_k[~df_k.index.isin(rare_groups)]\n",
    "\n",
    "df_k.index"
   ]
  },
  {
   "cell_type": "code",
   "execution_count": null,
   "id": "0e97c6bc",
   "metadata": {},
   "outputs": [],
   "source": [
    "k_values_new = df_k.groupby(qi_cols).size()\n",
    "\n",
    "min_k_new = k_values_new.min()\n",
    "print(min_k_new)\n"
   ]
  },
  {
   "cell_type": "code",
   "execution_count": null,
   "id": "683d96aa",
   "metadata": {},
   "outputs": [],
   "source": [
    "print(len(df_categorical) , \"|\", len(df_k))"
   ]
  },
  {
   "cell_type": "code",
   "execution_count": null,
   "id": "ac80abe8",
   "metadata": {},
   "outputs": [],
   "source": [
    "df_k.reset_index()[qi_cols].tail(10)"
   ]
  },
  {
   "cell_type": "code",
   "execution_count": null,
   "id": "aa160b64",
   "metadata": {},
   "outputs": [],
   "source": [
    "df_original = pd.read_csv(\"Customers.csv\")\n",
    "df = df_original.copy()\n",
    "\n",
    "df.columns"
   ]
  },
  {
   "cell_type": "code",
   "execution_count": null,
   "id": "396273a3",
   "metadata": {},
   "outputs": [],
   "source": [
    "df['CustomerID']"
   ]
  },
  {
   "cell_type": "code",
   "execution_count": null,
   "id": "c9e5361b",
   "metadata": {},
   "outputs": [],
   "source": [
    "import hashlib\n",
    "\n",
    "df['Hashed_CustomerID'] = df['CustomerID'].astype(str).apply(\n",
    "    lambda x: hashlib.sha256(x.encode()).hexdigest()\n",
    ")\n",
    "\n",
    "df[['CustomerID', 'Hashed_CustomerID']].head(5)\n"
   ]
  },
  {
   "cell_type": "code",
   "execution_count": null,
   "id": "22901485",
   "metadata": {},
   "outputs": [],
   "source": [
    "from cryptography.fernet import Fernet\n",
    "\n",
    "key = Fernet.generate_key()\n",
    "cipher = Fernet(key)\n",
    "\n",
    "df['Encrypted_CustomerID'] = df['CustomerID'].astype(str).apply(\n",
    "    lambda x: cipher.encrypt(x.encode())\n",
    ")\n",
    "\n",
    "df['Encrypted_CustomerID']\n"
   ]
  },
  {
   "cell_type": "code",
   "execution_count": null,
   "id": "3eb08055",
   "metadata": {},
   "outputs": [],
   "source": [
    "decrypted = df['Encrypted_CustomerID'].iloc[2]\n",
    "cipher.decrypt(decrypted).decode()"
   ]
  },
  {
   "cell_type": "code",
   "execution_count": null,
   "id": "91d454a9",
   "metadata": {},
   "outputs": [],
   "source": [
    "import base64\n",
    "\n",
    "df['Encoded_CustomerID'] = df['CustomerID'].astype(str).apply(\n",
    "    lambda x: base64.b64encode(x.encode()).decode()\n",
    ")\n",
    "\n",
    "df['Encoded_CustomerID']"
   ]
  },
  {
   "cell_type": "code",
   "execution_count": null,
   "id": "3716d789",
   "metadata": {},
   "outputs": [],
   "source": [
    "decoded = base64.b64decode(df['Encoded_CustomerID'].iloc[0]).decode()\n",
    "decoded"
   ]
  },
  {
   "cell_type": "code",
   "execution_count": null,
   "id": "356c06b7",
   "metadata": {},
   "outputs": [],
   "source": [
    "df.columns"
   ]
  }
 ],
 "metadata": {
  "kernelspec": {
   "display_name": "base",
   "language": "python",
   "name": "python3"
  },
  "language_info": {
   "codemirror_mode": {
    "name": "ipython",
    "version": 3
   },
   "file_extension": ".py",
   "mimetype": "text/x-python",
   "name": "python",
   "nbconvert_exporter": "python",
   "pygments_lexer": "ipython3",
   "version": "3.12.3"
  }
 },
 "nbformat": 4,
 "nbformat_minor": 5
}
