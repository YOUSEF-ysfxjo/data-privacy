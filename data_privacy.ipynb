{
 "cells": [
  {
   "cell_type": "code",
   "execution_count": 158,
   "id": "3a48c737",
   "metadata": {},
   "outputs": [],
   "source": [
    "import pandas as pd"
   ]
  },
  {
   "cell_type": "code",
   "execution_count": 3,
   "id": "221c4eac",
   "metadata": {},
   "outputs": [],
   "source": [
    "df = pd.read_csv('Customers.csv')"
   ]
  },
  {
   "cell_type": "markdown",
   "id": "934154ba",
   "metadata": {},
   "source": [
    "df.info()"
   ]
  },
  {
   "cell_type": "code",
   "execution_count": 5,
   "id": "143c9a6c",
   "metadata": {},
   "outputs": [
    {
     "data": {
      "text/html": [
       "<div>\n",
       "<style scoped>\n",
       "    .dataframe tbody tr th:only-of-type {\n",
       "        vertical-align: middle;\n",
       "    }\n",
       "\n",
       "    .dataframe tbody tr th {\n",
       "        vertical-align: top;\n",
       "    }\n",
       "\n",
       "    .dataframe thead th {\n",
       "        text-align: right;\n",
       "    }\n",
       "</style>\n",
       "<table border=\"1\" class=\"dataframe\">\n",
       "  <thead>\n",
       "    <tr style=\"text-align: right;\">\n",
       "      <th></th>\n",
       "      <th>CustomerID</th>\n",
       "      <th>Gender</th>\n",
       "      <th>Age</th>\n",
       "      <th>Annual Income ($)</th>\n",
       "      <th>Spending Score (1-100)</th>\n",
       "      <th>Profession</th>\n",
       "      <th>Work Experience</th>\n",
       "      <th>Family Size</th>\n",
       "    </tr>\n",
       "  </thead>\n",
       "  <tbody>\n",
       "    <tr>\n",
       "      <th>0</th>\n",
       "      <td>1</td>\n",
       "      <td>Male</td>\n",
       "      <td>19</td>\n",
       "      <td>15000</td>\n",
       "      <td>39</td>\n",
       "      <td>Healthcare</td>\n",
       "      <td>1</td>\n",
       "      <td>4</td>\n",
       "    </tr>\n",
       "    <tr>\n",
       "      <th>1</th>\n",
       "      <td>2</td>\n",
       "      <td>Male</td>\n",
       "      <td>21</td>\n",
       "      <td>35000</td>\n",
       "      <td>81</td>\n",
       "      <td>Engineer</td>\n",
       "      <td>3</td>\n",
       "      <td>3</td>\n",
       "    </tr>\n",
       "    <tr>\n",
       "      <th>2</th>\n",
       "      <td>3</td>\n",
       "      <td>Female</td>\n",
       "      <td>20</td>\n",
       "      <td>86000</td>\n",
       "      <td>6</td>\n",
       "      <td>Engineer</td>\n",
       "      <td>1</td>\n",
       "      <td>1</td>\n",
       "    </tr>\n",
       "    <tr>\n",
       "      <th>3</th>\n",
       "      <td>4</td>\n",
       "      <td>Female</td>\n",
       "      <td>23</td>\n",
       "      <td>59000</td>\n",
       "      <td>77</td>\n",
       "      <td>Lawyer</td>\n",
       "      <td>0</td>\n",
       "      <td>2</td>\n",
       "    </tr>\n",
       "    <tr>\n",
       "      <th>4</th>\n",
       "      <td>5</td>\n",
       "      <td>Female</td>\n",
       "      <td>31</td>\n",
       "      <td>38000</td>\n",
       "      <td>40</td>\n",
       "      <td>Entertainment</td>\n",
       "      <td>2</td>\n",
       "      <td>6</td>\n",
       "    </tr>\n",
       "  </tbody>\n",
       "</table>\n",
       "</div>"
      ],
      "text/plain": [
       "   CustomerID  Gender  Age  Annual Income ($)  Spending Score (1-100)  \\\n",
       "0           1    Male   19              15000                      39   \n",
       "1           2    Male   21              35000                      81   \n",
       "2           3  Female   20              86000                       6   \n",
       "3           4  Female   23              59000                      77   \n",
       "4           5  Female   31              38000                      40   \n",
       "\n",
       "      Profession  Work Experience  Family Size  \n",
       "0     Healthcare                1            4  \n",
       "1       Engineer                3            3  \n",
       "2       Engineer                1            1  \n",
       "3         Lawyer                0            2  \n",
       "4  Entertainment                2            6  "
      ]
     },
     "execution_count": 5,
     "metadata": {},
     "output_type": "execute_result"
    }
   ],
   "source": [
    "df.head()"
   ]
  },
  {
   "cell_type": "code",
   "execution_count": 7,
   "id": "d541b81a",
   "metadata": {},
   "outputs": [
    {
     "data": {
      "text/plain": [
       "CustomerID                 0\n",
       "Gender                     0\n",
       "Age                        0\n",
       "Annual Income ($)          0\n",
       "Spending Score (1-100)     0\n",
       "Profession                35\n",
       "Work Experience            0\n",
       "Family Size                0\n",
       "dtype: int64"
      ]
     },
     "execution_count": 7,
     "metadata": {},
     "output_type": "execute_result"
    }
   ],
   "source": [
    "df.isnull().sum()"
   ]
  },
  {
   "cell_type": "code",
   "execution_count": 8,
   "id": "1f2b2097",
   "metadata": {},
   "outputs": [
    {
     "data": {
      "text/html": [
       "<div>\n",
       "<style scoped>\n",
       "    .dataframe tbody tr th:only-of-type {\n",
       "        vertical-align: middle;\n",
       "    }\n",
       "\n",
       "    .dataframe tbody tr th {\n",
       "        vertical-align: top;\n",
       "    }\n",
       "\n",
       "    .dataframe thead th {\n",
       "        text-align: right;\n",
       "    }\n",
       "</style>\n",
       "<table border=\"1\" class=\"dataframe\">\n",
       "  <thead>\n",
       "    <tr style=\"text-align: right;\">\n",
       "      <th></th>\n",
       "      <th>CustomerID</th>\n",
       "      <th>Age</th>\n",
       "      <th>Annual Income ($)</th>\n",
       "      <th>Spending Score (1-100)</th>\n",
       "      <th>Work Experience</th>\n",
       "      <th>Family Size</th>\n",
       "    </tr>\n",
       "  </thead>\n",
       "  <tbody>\n",
       "    <tr>\n",
       "      <th>count</th>\n",
       "      <td>2000.000000</td>\n",
       "      <td>2000.000000</td>\n",
       "      <td>2000.000000</td>\n",
       "      <td>2000.000000</td>\n",
       "      <td>2000.000000</td>\n",
       "      <td>2000.000000</td>\n",
       "    </tr>\n",
       "    <tr>\n",
       "      <th>mean</th>\n",
       "      <td>1000.500000</td>\n",
       "      <td>48.960000</td>\n",
       "      <td>110731.821500</td>\n",
       "      <td>50.962500</td>\n",
       "      <td>4.102500</td>\n",
       "      <td>3.768500</td>\n",
       "    </tr>\n",
       "    <tr>\n",
       "      <th>std</th>\n",
       "      <td>577.494589</td>\n",
       "      <td>28.429747</td>\n",
       "      <td>45739.536688</td>\n",
       "      <td>27.934661</td>\n",
       "      <td>3.922204</td>\n",
       "      <td>1.970749</td>\n",
       "    </tr>\n",
       "    <tr>\n",
       "      <th>min</th>\n",
       "      <td>1.000000</td>\n",
       "      <td>0.000000</td>\n",
       "      <td>0.000000</td>\n",
       "      <td>0.000000</td>\n",
       "      <td>0.000000</td>\n",
       "      <td>1.000000</td>\n",
       "    </tr>\n",
       "    <tr>\n",
       "      <th>25%</th>\n",
       "      <td>500.750000</td>\n",
       "      <td>25.000000</td>\n",
       "      <td>74572.000000</td>\n",
       "      <td>28.000000</td>\n",
       "      <td>1.000000</td>\n",
       "      <td>2.000000</td>\n",
       "    </tr>\n",
       "    <tr>\n",
       "      <th>50%</th>\n",
       "      <td>1000.500000</td>\n",
       "      <td>48.000000</td>\n",
       "      <td>110045.000000</td>\n",
       "      <td>50.000000</td>\n",
       "      <td>3.000000</td>\n",
       "      <td>4.000000</td>\n",
       "    </tr>\n",
       "    <tr>\n",
       "      <th>75%</th>\n",
       "      <td>1500.250000</td>\n",
       "      <td>73.000000</td>\n",
       "      <td>149092.750000</td>\n",
       "      <td>75.000000</td>\n",
       "      <td>7.000000</td>\n",
       "      <td>5.000000</td>\n",
       "    </tr>\n",
       "    <tr>\n",
       "      <th>max</th>\n",
       "      <td>2000.000000</td>\n",
       "      <td>99.000000</td>\n",
       "      <td>189974.000000</td>\n",
       "      <td>100.000000</td>\n",
       "      <td>17.000000</td>\n",
       "      <td>9.000000</td>\n",
       "    </tr>\n",
       "  </tbody>\n",
       "</table>\n",
       "</div>"
      ],
      "text/plain": [
       "        CustomerID          Age  Annual Income ($)  Spending Score (1-100)  \\\n",
       "count  2000.000000  2000.000000        2000.000000             2000.000000   \n",
       "mean   1000.500000    48.960000      110731.821500               50.962500   \n",
       "std     577.494589    28.429747       45739.536688               27.934661   \n",
       "min       1.000000     0.000000           0.000000                0.000000   \n",
       "25%     500.750000    25.000000       74572.000000               28.000000   \n",
       "50%    1000.500000    48.000000      110045.000000               50.000000   \n",
       "75%    1500.250000    73.000000      149092.750000               75.000000   \n",
       "max    2000.000000    99.000000      189974.000000              100.000000   \n",
       "\n",
       "       Work Experience  Family Size  \n",
       "count      2000.000000  2000.000000  \n",
       "mean          4.102500     3.768500  \n",
       "std           3.922204     1.970749  \n",
       "min           0.000000     1.000000  \n",
       "25%           1.000000     2.000000  \n",
       "50%           3.000000     4.000000  \n",
       "75%           7.000000     5.000000  \n",
       "max          17.000000     9.000000  "
      ]
     },
     "execution_count": 8,
     "metadata": {},
     "output_type": "execute_result"
    }
   ],
   "source": [
    "df.describe()"
   ]
  },
  {
   "cell_type": "code",
   "execution_count": 10,
   "id": "1f068dc8",
   "metadata": {},
   "outputs": [
    {
     "data": {
      "text/plain": [
       "<Axes: >"
      ]
     },
     "execution_count": 10,
     "metadata": {},
     "output_type": "execute_result"
    },
    {
     "data": {
      "image/png": "[encoded data removed]",
      "text/plain": [
       "<Figure size 640x480 with 1 Axes>"
      ]
     },
     "metadata": {},
     "output_type": "display_data"
    }
   ],
   "source": [
    "df['Age'].hist(bins=20)"
   ]
  },
  {
   "cell_type": "code",
   "execution_count": 11,
   "id": "37520522",
   "metadata": {},
   "outputs": [
    {
     "data": {
      "text/plain": [
       "<Axes: >"
      ]
     },
     "execution_count": 11,
     "metadata": {},
     "output_type": "execute_result"
    },
    {
     "data": {
      "image/png": "[encoded data removed]",
      "text/plain": [
       "<Figure size 640x480 with 1 Axes>"
      ]
     },
     "metadata": {},
     "output_type": "display_data"
    }
   ],
   "source": [
    "df['Annual Income ($)'].hist(bins=15)"
   ]
  },
  {
   "cell_type": "code",
   "execution_count": 12,
   "id": "aa7e7f14",
   "metadata": {},
   "outputs": [
    {
     "data": {
      "text/plain": [
       "Index(['CustomerID', 'Gender', 'Age', 'Annual Income ($)',\n",
       "       'Spending Score (1-100)', 'Profession', 'Work Experience',\n",
       "       'Family Size'],\n",
       "      dtype='object')"
      ]
     },
     "execution_count": 12,
     "metadata": {},
     "output_type": "execute_result"
    }
   ],
   "source": [
    "df.columns"
   ]
  },
  {
   "cell_type": "markdown",
   "id": "a6e20554",
   "metadata": {},
   "source": [
    "### PII\n",
    "- CustomerID\n",
    "\n",
    "### SPII/ Senstivie\n",
    "- Annual Income ($)\n",
    "- Spending Score (1-100)\n",
    "- Family Size\n",
    "\n",
    "### Safe\n",
    "- Gender\n",
    "- Age\n",
    "- Work Experince (could be SPII)"
   ]
  },
  {
   "cell_type": "code",
   "execution_count": 25,
   "id": "6752ddae",
   "metadata": {},
   "outputs": [],
   "source": [
    "import re\n",
    "\n",
    "df.columns = [re.sub(r\"\\(.*?\\)\", \"\", col) for col in df.columns]\n",
    "df.columns = [re.sub(r\"\\$\", \"\", col) for col in df.columns]\n",
    "df.columns = [col.strip() for col in df.columns]"
   ]
  },
  {
   "cell_type": "code",
   "execution_count": 28,
   "id": "1cbbb4d7",
   "metadata": {},
   "outputs": [
    {
     "data": {
      "text/plain": [
       "Index(['CustomerID', 'Gender', 'Age', 'Annual Income', 'Spending Score',\n",
       "       'Profession', 'Work Experience', 'Family Size', 'Annual Income',\n",
       "       'Spending Score'],\n",
       "      dtype='object')"
      ]
     },
     "execution_count": 28,
     "metadata": {},
     "output_type": "execute_result"
    }
   ],
   "source": [
    "df.columns"
   ]
  },
  {
   "cell_type": "code",
   "execution_count": 32,
   "id": "e2196973",
   "metadata": {},
   "outputs": [
    {
     "data": {
      "text/html": [
       "<div>\n",
       "<style scoped>\n",
       "    .dataframe tbody tr th:only-of-type {\n",
       "        vertical-align: middle;\n",
       "    }\n",
       "\n",
       "    .dataframe tbody tr th {\n",
       "        vertical-align: top;\n",
       "    }\n",
       "\n",
       "    .dataframe thead th {\n",
       "        text-align: right;\n",
       "    }\n",
       "</style>\n",
       "<table border=\"1\" class=\"dataframe\">\n",
       "  <thead>\n",
       "    <tr style=\"text-align: right;\">\n",
       "      <th></th>\n",
       "      <th>Gender</th>\n",
       "      <th>Age</th>\n",
       "      <th>Annual Income</th>\n",
       "      <th>Spending Score</th>\n",
       "      <th>Profession</th>\n",
       "      <th>Work Experience</th>\n",
       "      <th>Family Size</th>\n",
       "      <th>Annual Income</th>\n",
       "      <th>Spending Score</th>\n",
       "    </tr>\n",
       "  </thead>\n",
       "  <tbody>\n",
       "    <tr>\n",
       "      <th>0</th>\n",
       "      <td>Male</td>\n",
       "      <td>19</td>\n",
       "      <td>15000</td>\n",
       "      <td>39</td>\n",
       "      <td>Healthcare</td>\n",
       "      <td>1</td>\n",
       "      <td>4</td>\n",
       "      <td>15000</td>\n",
       "      <td>39</td>\n",
       "    </tr>\n",
       "    <tr>\n",
       "      <th>1</th>\n",
       "      <td>Male</td>\n",
       "      <td>21</td>\n",
       "      <td>35000</td>\n",
       "      <td>81</td>\n",
       "      <td>Engineer</td>\n",
       "      <td>3</td>\n",
       "      <td>3</td>\n",
       "      <td>35000</td>\n",
       "      <td>81</td>\n",
       "    </tr>\n",
       "    <tr>\n",
       "      <th>2</th>\n",
       "      <td>Female</td>\n",
       "      <td>20</td>\n",
       "      <td>86000</td>\n",
       "      <td>6</td>\n",
       "      <td>Engineer</td>\n",
       "      <td>1</td>\n",
       "      <td>1</td>\n",
       "      <td>86000</td>\n",
       "      <td>6</td>\n",
       "    </tr>\n",
       "    <tr>\n",
       "      <th>3</th>\n",
       "      <td>Female</td>\n",
       "      <td>23</td>\n",
       "      <td>59000</td>\n",
       "      <td>77</td>\n",
       "      <td>Lawyer</td>\n",
       "      <td>0</td>\n",
       "      <td>2</td>\n",
       "      <td>59000</td>\n",
       "      <td>77</td>\n",
       "    </tr>\n",
       "    <tr>\n",
       "      <th>4</th>\n",
       "      <td>Female</td>\n",
       "      <td>31</td>\n",
       "      <td>38000</td>\n",
       "      <td>40</td>\n",
       "      <td>Entertainment</td>\n",
       "      <td>2</td>\n",
       "      <td>6</td>\n",
       "      <td>38000</td>\n",
       "      <td>40</td>\n",
       "    </tr>\n",
       "  </tbody>\n",
       "</table>\n",
       "</div>"
      ],
      "text/plain": [
       "   Gender  Age Annual Income Spending Score     Profession  Work Experience  \\\n",
       "0    Male   19         15000             39     Healthcare                1   \n",
       "1    Male   21         35000             81       Engineer                3   \n",
       "2  Female   20         86000              6       Engineer                1   \n",
       "3  Female   23         59000             77         Lawyer                0   \n",
       "4  Female   31         38000             40  Entertainment                2   \n",
       "\n",
       "   Family Size Annual Income Spending Score  \n",
       "0            4         15000             39  \n",
       "1            3         35000             81  \n",
       "2            1         86000              6  \n",
       "3            2         59000             77  \n",
       "4            6         38000             40  "
      ]
     },
     "execution_count": 32,
     "metadata": {},
     "output_type": "execute_result"
    }
   ],
   "source": [
    "df_suupressed = df.drop(columns='CustomerID')\n",
    "df_suupressed.head()"
   ]
  },
  {
   "cell_type": "code",
   "execution_count": 41,
   "id": "4cc168fd",
   "metadata": {},
   "outputs": [
    {
     "data": {
      "text/plain": [
       "Gender             object\n",
       "Age                 int64\n",
       "Annual Income       int32\n",
       "Spending Score      int32\n",
       "Profession         object\n",
       "Work Experience     int64\n",
       "Family Size         int64\n",
       "dtype: object"
      ]
     },
     "execution_count": 41,
     "metadata": {},
     "output_type": "execute_result"
    }
   ],
   "source": [
    "df_suupressed = df_suupressed.loc[:, ~df_suupressed.columns.duplicated()]\n",
    "\n",
    "df_suupressed.dtypes\n"
   ]
  },
  {
   "cell_type": "code",
   "execution_count": 44,
   "id": "47049478",
   "metadata": {},
   "outputs": [
    {
     "data": {
      "text/plain": [
       "<Axes: >"
      ]
     },
     "execution_count": 44,
     "metadata": {},
     "output_type": "execute_result"
    },
    {
     "data": {
      "image/png": "[encoded data removed]",
      "text/plain": [
       "<Figure size 640x480 with 1 Axes>"
      ]
     },
     "metadata": {},
     "output_type": "display_data"
    }
   ],
   "source": [
    "df_suupressed['Age'].plot(kind='box')"
   ]
  },
  {
   "cell_type": "code",
   "execution_count": 42,
   "id": "b7121980",
   "metadata": {},
   "outputs": [
    {
     "data": {
      "text/plain": [
       "<Axes: >"
      ]
     },
     "execution_count": 42,
     "metadata": {},
     "output_type": "execute_result"
    },
    {
     "data": {
      "image/png": "[encoded data removed]",
      "text/plain": [
       "<Figure size 640x480 with 1 Axes>"
      ]
     },
     "metadata": {},
     "output_type": "display_data"
    }
   ],
   "source": [
    "df_suupressed['Annual Income'].plot(kind='box')"
   ]
  },
  {
   "cell_type": "code",
   "execution_count": 54,
   "id": "aca6ca96",
   "metadata": {},
   "outputs": [
    {
     "data": {
      "text/plain": [
       "0    ***000\n",
       "1    ***000\n",
       "2    ***000\n",
       "3    ***000\n",
       "4    ***000\n",
       "Name: Annual Income, dtype: object"
      ]
     },
     "execution_count": 54,
     "metadata": {},
     "output_type": "execute_result"
    }
   ],
   "source": [
    "df_masked = df_suupressed.copy()\n",
    "\n",
    "df_masked['Annual Income'] = df_masked['Annual Income'].astype(str).apply(lambda x: '*' * (len(x)-2) + x[-3:])\n",
    "df_masked['Annual Income'].head()"
   ]
  },
  {
   "cell_type": "code",
   "execution_count": 55,
   "id": "ea8a3a60",
   "metadata": {},
   "outputs": [
    {
     "name": "stdout",
     "output_type": "stream",
     "text": [
      "Collecting faker\n",
      "  Downloading faker-37.5.3-py3-none-any.whl.metadata (15 kB)\n",
      "Requirement already satisfied: tzdata in c:\\users\\hp\\anaconda3\\lib\\site-packages (from faker) (2023.3)\n",
      "Downloading faker-37.5.3-py3-none-any.whl (1.9 MB)\n",
      "   ---------------------------------------- 0.0/1.9 MB ? eta -:--:--\n",
      "   ---------------------------------------- 0.0/1.9 MB ? eta -:--:--\n",
      "   ---------------------------------------- 0.0/1.9 MB ? eta -:--:--\n",
      "   ---------------------------------------- 0.0/1.9 MB ? eta -:--:--\n",
      "   ---------------------------------------- 0.0/1.9 MB ? eta -:--:--\n",
      "   ---------------------------------------- 0.0/1.9 MB ? eta -:--:--\n",
      "    --------------------------------------- 0.0/1.9 MB 119.8 kB/s eta 0:00:17\n",
      "    --------------------------------------- 0.0/1.9 MB 119.8 kB/s eta 0:00:17\n",
      "    --------------------------------------- 0.0/1.9 MB 131.3 kB/s eta 0:00:15\n",
      "   - -------------------------------------- 0.1/1.9 MB 179.1 kB/s eta 0:00:11\n",
      "   - -------------------------------------- 0.1/1.9 MB 179.1 kB/s eta 0:00:11\n",
      "   - -------------------------------------- 0.1/1.9 MB 201.8 kB/s eta 0:00:10\n",
      "   -- ------------------------------------- 0.1/1.9 MB 232.7 kB/s eta 0:00:08\n",
      "   -- ------------------------------------- 0.1/1.9 MB 232.7 kB/s eta 0:00:08\n",
      "   -- ------------------------------------- 0.1/1.9 MB 243.8 kB/s eta 0:00:08\n",
      "   --- ------------------------------------ 0.2/1.9 MB 235.4 kB/s eta 0:00:08\n",
      "   --- ------------------------------------ 0.2/1.9 MB 235.4 kB/s eta 0:00:08\n",
      "   --- ------------------------------------ 0.2/1.9 MB 238.5 kB/s eta 0:00:08\n",
      "   --- ------------------------------------ 0.2/1.9 MB 238.5 kB/s eta 0:00:08\n",
      "   --- ------------------------------------ 0.2/1.9 MB 236.0 kB/s eta 0:00:08\n",
      "   --- ------------------------------------ 0.2/1.9 MB 236.0 kB/s eta 0:00:08\n",
      "   --- ------------------------------------ 0.2/1.9 MB 236.0 kB/s eta 0:00:08\n",
      "   ---- ----------------------------------- 0.2/1.9 MB 211.2 kB/s eta 0:00:09\n",
      "   ---- ----------------------------------- 0.2/1.9 MB 211.2 kB/s eta 0:00:09\n",
      "   ---- ----------------------------------- 0.2/1.9 MB 211.9 kB/s eta 0:00:09\n",
      "   ---- ----------------------------------- 0.2/1.9 MB 212.1 kB/s eta 0:00:09\n",
      "   ----- ---------------------------------- 0.3/1.9 MB 224.8 kB/s eta 0:00:08\n",
      "   ----- ---------------------------------- 0.3/1.9 MB 232.9 kB/s eta 0:00:08\n",
      "   ------ --------------------------------- 0.3/1.9 MB 243.8 kB/s eta 0:00:07\n",
      "   ------ --------------------------------- 0.3/1.9 MB 243.8 kB/s eta 0:00:07\n",
      "   ------ --------------------------------- 0.3/1.9 MB 234.1 kB/s eta 0:00:07\n",
      "   ------ --------------------------------- 0.3/1.9 MB 244.0 kB/s eta 0:00:07\n",
      "   ------- -------------------------------- 0.4/1.9 MB 247.6 kB/s eta 0:00:07\n",
      "   ------- -------------------------------- 0.4/1.9 MB 249.4 kB/s eta 0:00:07\n",
      "   ------- -------------------------------- 0.4/1.9 MB 247.5 kB/s eta 0:00:07\n",
      "   -------- ------------------------------- 0.4/1.9 MB 246.6 kB/s eta 0:00:07\n",
      "   -------- ------------------------------- 0.4/1.9 MB 252.1 kB/s eta 0:00:07\n",
      "   -------- ------------------------------- 0.4/1.9 MB 252.1 kB/s eta 0:00:07\n",
      "   --------- ------------------------------ 0.4/1.9 MB 254.9 kB/s eta 0:00:06\n",
      "   --------- ------------------------------ 0.4/1.9 MB 254.9 kB/s eta 0:00:06\n",
      "   --------- ------------------------------ 0.5/1.9 MB 254.3 kB/s eta 0:00:06\n",
      "   --------- ------------------------------ 0.5/1.9 MB 254.3 kB/s eta 0:00:06\n",
      "   --------- ------------------------------ 0.5/1.9 MB 254.3 kB/s eta 0:00:06\n",
      "   --------- ------------------------------ 0.5/1.9 MB 245.2 kB/s eta 0:00:06\n",
      "   --------- ------------------------------ 0.5/1.9 MB 245.2 kB/s eta 0:00:06\n",
      "   ---------- ----------------------------- 0.5/1.9 MB 252.1 kB/s eta 0:00:06\n",
      "   ---------- ----------------------------- 0.5/1.9 MB 252.1 kB/s eta 0:00:06\n",
      "   ---------- ----------------------------- 0.5/1.9 MB 247.6 kB/s eta 0:00:06\n",
      "   ----------- ---------------------------- 0.6/1.9 MB 251.7 kB/s eta 0:00:06\n",
      "   ----------- ---------------------------- 0.6/1.9 MB 252.8 kB/s eta 0:00:06\n",
      "   ----------- ---------------------------- 0.6/1.9 MB 254.9 kB/s eta 0:00:06\n",
      "   ------------ --------------------------- 0.6/1.9 MB 258.7 kB/s eta 0:00:06\n",
      "   ------------ --------------------------- 0.6/1.9 MB 257.9 kB/s eta 0:00:06\n",
      "   ------------ --------------------------- 0.6/1.9 MB 257.9 kB/s eta 0:00:06\n",
      "   ------------- -------------------------- 0.6/1.9 MB 259.6 kB/s eta 0:00:06\n",
      "   ------------- -------------------------- 0.6/1.9 MB 258.8 kB/s eta 0:00:06\n",
      "   ------------- -------------------------- 0.7/1.9 MB 260.6 kB/s eta 0:00:05\n",
      "   -------------- ------------------------- 0.7/1.9 MB 263.8 kB/s eta 0:00:05\n",
      "   -------------- ------------------------- 0.7/1.9 MB 264.6 kB/s eta 0:00:05\n",
      "   -------------- ------------------------- 0.7/1.9 MB 267.6 kB/s eta 0:00:05\n",
      "   -------------- ------------------------- 0.7/1.9 MB 267.6 kB/s eta 0:00:05\n",
      "   -------------- ------------------------- 0.7/1.9 MB 262.2 kB/s eta 0:00:05\n",
      "   --------------- ------------------------ 0.7/1.9 MB 266.6 kB/s eta 0:00:05\n",
      "   --------------- ------------------------ 0.8/1.9 MB 269.5 kB/s eta 0:00:05\n",
      "   --------------- ------------------------ 0.8/1.9 MB 265.7 kB/s eta 0:00:05\n",
      "   --------------- ------------------------ 0.8/1.9 MB 265.7 kB/s eta 0:00:05\n",
      "   ---------------- ----------------------- 0.8/1.9 MB 267.0 kB/s eta 0:00:05\n",
      "   ---------------- ----------------------- 0.8/1.9 MB 266.2 kB/s eta 0:00:05\n",
      "   ----------------- ---------------------- 0.8/1.9 MB 270.3 kB/s eta 0:00:05\n",
      "   ----------------- ---------------------- 0.9/1.9 MB 270.7 kB/s eta 0:00:05\n",
      "   ----------------- ---------------------- 0.9/1.9 MB 270.7 kB/s eta 0:00:05\n",
      "   ----------------- ---------------------- 0.9/1.9 MB 270.7 kB/s eta 0:00:05\n",
      "   ------------------ --------------------- 0.9/1.9 MB 266.6 kB/s eta 0:00:05\n",
      "   ------------------ --------------------- 0.9/1.9 MB 264.6 kB/s eta 0:00:04\n",
      "   ------------------ --------------------- 0.9/1.9 MB 267.0 kB/s eta 0:00:04\n",
      "   ------------------ --------------------- 0.9/1.9 MB 267.0 kB/s eta 0:00:04\n",
      "   ------------------- -------------------- 0.9/1.9 MB 266.9 kB/s eta 0:00:04\n",
      "   ------------------- -------------------- 0.9/1.9 MB 265.1 kB/s eta 0:00:04\n",
      "   ------------------- -------------------- 0.9/1.9 MB 265.1 kB/s eta 0:00:04\n",
      "   ------------------- -------------------- 1.0/1.9 MB 266.2 kB/s eta 0:00:04\n",
      "   ------------------- -------------------- 1.0/1.9 MB 264.4 kB/s eta 0:00:04\n",
      "   -------------------- ------------------- 1.0/1.9 MB 266.6 kB/s eta 0:00:04\n",
      "   -------------------- ------------------- 1.0/1.9 MB 269.9 kB/s eta 0:00:04\n",
      "   --------------------- ------------------ 1.0/1.9 MB 269.3 kB/s eta 0:00:04\n",
      "   --------------------- ------------------ 1.0/1.9 MB 271.3 kB/s eta 0:00:04\n",
      "   --------------------- ------------------ 1.1/1.9 MB 271.1 kB/s eta 0:00:04\n",
      "   ---------------------- ----------------- 1.1/1.9 MB 270.5 kB/s eta 0:00:04\n",
      "   ---------------------- ----------------- 1.1/1.9 MB 270.5 kB/s eta 0:00:04\n",
      "   ---------------------- ----------------- 1.1/1.9 MB 272.4 kB/s eta 0:00:04\n",
      "   ---------------------- ----------------- 1.1/1.9 MB 270.8 kB/s eta 0:00:04\n",
      "   ----------------------- ---------------- 1.1/1.9 MB 271.6 kB/s eta 0:00:04\n",
      "   ----------------------- ---------------- 1.1/1.9 MB 273.5 kB/s eta 0:00:03\n",
      "   ----------------------- ---------------- 1.1/1.9 MB 273.5 kB/s eta 0:00:03\n",
      "   ----------------------- ---------------- 1.2/1.9 MB 272.9 kB/s eta 0:00:03\n",
      "   ------------------------ --------------- 1.2/1.9 MB 274.1 kB/s eta 0:00:03\n",
      "   ------------------------ --------------- 1.2/1.9 MB 275.9 kB/s eta 0:00:03\n",
      "   ------------------------ --------------- 1.2/1.9 MB 275.9 kB/s eta 0:00:03\n",
      "   ------------------------- -------------- 1.2/1.9 MB 274.6 kB/s eta 0:00:03\n",
      "   ------------------------- -------------- 1.2/1.9 MB 275.0 kB/s eta 0:00:03\n",
      "   ------------------------- -------------- 1.3/1.9 MB 276.7 kB/s eta 0:00:03\n",
      "   -------------------------- ------------- 1.3/1.9 MB 278.3 kB/s eta 0:00:03\n",
      "   -------------------------- ------------- 1.3/1.9 MB 277.7 kB/s eta 0:00:03\n",
      "   -------------------------- ------------- 1.3/1.9 MB 279.3 kB/s eta 0:00:03\n",
      "   -------------------------- ------------- 1.3/1.9 MB 279.3 kB/s eta 0:00:03\n",
      "   --------------------------- ------------ 1.3/1.9 MB 280.0 kB/s eta 0:00:03\n",
      "   --------------------------- ------------ 1.3/1.9 MB 277.6 kB/s eta 0:00:03\n",
      "   --------------------------- ------------ 1.4/1.9 MB 279.1 kB/s eta 0:00:03\n",
      "   ---------------------------- ----------- 1.4/1.9 MB 278.5 kB/s eta 0:00:03\n",
      "   ---------------------------- ----------- 1.4/1.9 MB 280.9 kB/s eta 0:00:02\n",
      "   ---------------------------- ----------- 1.4/1.9 MB 281.5 kB/s eta 0:00:02\n",
      "   ----------------------------- ---------- 1.4/1.9 MB 281.8 kB/s eta 0:00:02\n",
      "   ----------------------------- ---------- 1.4/1.9 MB 281.8 kB/s eta 0:00:02\n",
      "   ----------------------------- ---------- 1.4/1.9 MB 280.6 kB/s eta 0:00:02\n",
      "   ----------------------------- ---------- 1.5/1.9 MB 280.0 kB/s eta 0:00:02\n",
      "   ------------------------------ --------- 1.5/1.9 MB 281.4 kB/s eta 0:00:02\n",
      "   ------------------------------ --------- 1.5/1.9 MB 283.7 kB/s eta 0:00:02\n",
      "   ------------------------------ --------- 1.5/1.9 MB 282.3 kB/s eta 0:00:02\n",
      "   ------------------------------- -------- 1.5/1.9 MB 283.6 kB/s eta 0:00:02\n",
      "   ------------------------------- -------- 1.5/1.9 MB 283.9 kB/s eta 0:00:02\n",
      "   ------------------------------- -------- 1.5/1.9 MB 283.9 kB/s eta 0:00:02\n",
      "   ------------------------------- -------- 1.6/1.9 MB 283.6 kB/s eta 0:00:02\n",
      "   -------------------------------- ------- 1.6/1.9 MB 285.7 kB/s eta 0:00:02\n",
      "   -------------------------------- ------- 1.6/1.9 MB 287.2 kB/s eta 0:00:02\n",
      "   --------------------------------- ------ 1.6/1.9 MB 286.6 kB/s eta 0:00:02\n",
      "   --------------------------------- ------ 1.6/1.9 MB 287.9 kB/s eta 0:00:02\n",
      "   --------------------------------- ------ 1.6/1.9 MB 287.9 kB/s eta 0:00:02\n",
      "   ---------------------------------- ----- 1.7/1.9 MB 288.3 kB/s eta 0:00:02\n",
      "   ---------------------------------- ----- 1.7/1.9 MB 288.3 kB/s eta 0:00:02\n",
      "   ---------------------------------- ----- 1.7/1.9 MB 285.4 kB/s eta 0:00:01\n",
      "   ---------------------------------- ----- 1.7/1.9 MB 286.9 kB/s eta 0:00:01\n",
      "   ---------------------------------- ----- 1.7/1.9 MB 286.9 kB/s eta 0:00:01\n",
      "   ----------------------------------- ---- 1.7/1.9 MB 289.2 kB/s eta 0:00:01\n",
      "   ----------------------------------- ---- 1.8/1.9 MB 289.4 kB/s eta 0:00:01\n",
      "   ------------------------------------ --- 1.8/1.9 MB 291.3 kB/s eta 0:00:01\n",
      "   ------------------------------------ --- 1.8/1.9 MB 290.0 kB/s eta 0:00:01\n",
      "   ------------------------------------ --- 1.8/1.9 MB 290.0 kB/s eta 0:00:01\n",
      "   ------------------------------------ --- 1.8/1.9 MB 290.4 kB/s eta 0:00:01\n",
      "   ------------------------------------- -- 1.8/1.9 MB 291.5 kB/s eta 0:00:01\n",
      "   ------------------------------------- -- 1.8/1.9 MB 290.9 kB/s eta 0:00:01\n",
      "   -------------------------------------- - 1.9/1.9 MB 292.8 kB/s eta 0:00:01\n",
      "   -------------------------------------- - 1.9/1.9 MB 291.5 kB/s eta 0:00:01\n",
      "   -------------------------------------- - 1.9/1.9 MB 293.3 kB/s eta 0:00:01\n",
      "   ---------------------------------------  1.9/1.9 MB 293.7 kB/s eta 0:00:01\n",
      "   ---------------------------------------  1.9/1.9 MB 294.8 kB/s eta 0:00:01\n",
      "   ---------------------------------------- 1.9/1.9 MB 294.1 kB/s eta 0:00:00\n",
      "Installing collected packages: faker\n",
      "Successfully installed faker-37.5.3\n"
     ]
    }
   ],
   "source": [
    "!pip install faker"
   ]
  },
  {
   "cell_type": "code",
   "execution_count": 58,
   "id": "1484dd47",
   "metadata": {},
   "outputs": [
    {
     "data": {
      "text/html": [
       "<div>\n",
       "<style scoped>\n",
       "    .dataframe tbody tr th:only-of-type {\n",
       "        vertical-align: middle;\n",
       "    }\n",
       "\n",
       "    .dataframe tbody tr th {\n",
       "        vertical-align: top;\n",
       "    }\n",
       "\n",
       "    .dataframe thead th {\n",
       "        text-align: right;\n",
       "    }\n",
       "</style>\n",
       "<table border=\"1\" class=\"dataframe\">\n",
       "  <thead>\n",
       "    <tr style=\"text-align: right;\">\n",
       "      <th></th>\n",
       "      <th>Gender</th>\n",
       "      <th>Age</th>\n",
       "      <th>Annual Income</th>\n",
       "      <th>Spending Score</th>\n",
       "      <th>Profession</th>\n",
       "      <th>Work Experience</th>\n",
       "      <th>Family Size</th>\n",
       "      <th>Email</th>\n",
       "    </tr>\n",
       "  </thead>\n",
       "  <tbody>\n",
       "    <tr>\n",
       "      <th>0</th>\n",
       "      <td>Male</td>\n",
       "      <td>19</td>\n",
       "      <td>***000</td>\n",
       "      <td>39</td>\n",
       "      <td>Healthcare</td>\n",
       "      <td>1</td>\n",
       "      <td>4</td>\n",
       "      <td>gcox@example.net</td>\n",
       "    </tr>\n",
       "    <tr>\n",
       "      <th>1</th>\n",
       "      <td>Male</td>\n",
       "      <td>21</td>\n",
       "      <td>***000</td>\n",
       "      <td>81</td>\n",
       "      <td>Engineer</td>\n",
       "      <td>3</td>\n",
       "      <td>3</td>\n",
       "      <td>codyross@example.org</td>\n",
       "    </tr>\n",
       "    <tr>\n",
       "      <th>2</th>\n",
       "      <td>Female</td>\n",
       "      <td>20</td>\n",
       "      <td>***000</td>\n",
       "      <td>6</td>\n",
       "      <td>Engineer</td>\n",
       "      <td>1</td>\n",
       "      <td>1</td>\n",
       "      <td>josephsimpson@example.net</td>\n",
       "    </tr>\n",
       "    <tr>\n",
       "      <th>3</th>\n",
       "      <td>Female</td>\n",
       "      <td>23</td>\n",
       "      <td>***000</td>\n",
       "      <td>77</td>\n",
       "      <td>Lawyer</td>\n",
       "      <td>0</td>\n",
       "      <td>2</td>\n",
       "      <td>jamesenglish@example.net</td>\n",
       "    </tr>\n",
       "    <tr>\n",
       "      <th>4</th>\n",
       "      <td>Female</td>\n",
       "      <td>31</td>\n",
       "      <td>***000</td>\n",
       "      <td>40</td>\n",
       "      <td>Entertainment</td>\n",
       "      <td>2</td>\n",
       "      <td>6</td>\n",
       "      <td>maryflowers@example.com</td>\n",
       "    </tr>\n",
       "  </tbody>\n",
       "</table>\n",
       "</div>"
      ],
      "text/plain": [
       "   Gender  Age Annual Income  Spending Score     Profession  Work Experience  \\\n",
       "0    Male   19        ***000              39     Healthcare                1   \n",
       "1    Male   21        ***000              81       Engineer                3   \n",
       "2  Female   20        ***000               6       Engineer                1   \n",
       "3  Female   23        ***000              77         Lawyer                0   \n",
       "4  Female   31        ***000              40  Entertainment                2   \n",
       "\n",
       "   Family Size                      Email  \n",
       "0            4           gcox@example.net  \n",
       "1            3       codyross@example.org  \n",
       "2            1  josephsimpson@example.net  \n",
       "3            2   jamesenglish@example.net  \n",
       "4            6    maryflowers@example.com  "
      ]
     },
     "execution_count": 58,
     "metadata": {},
     "output_type": "execute_result"
    }
   ],
   "source": [
    "from faker import Faker\n",
    "\n",
    "fake = Faker()\n",
    "\n",
    "df_faker = df_masked.copy()\n",
    "\n",
    "df_faker['Email'] = [fake.email() for _ in range(len(df_faker))]\n",
    "df_faker.head()"
   ]
  },
  {
   "cell_type": "code",
   "execution_count": 59,
   "id": "2a60422c",
   "metadata": {},
   "outputs": [
    {
     "data": {
      "text/plain": [
       "0    Civil engineer, contracting\n",
       "1         Pension scheme manager\n",
       "2            Associate Professor\n",
       "3       Surveyor, land/geomatics\n",
       "4          Glass blower/designer\n",
       "Name: Profession, dtype: object"
      ]
     },
     "execution_count": 59,
     "metadata": {},
     "output_type": "execute_result"
    }
   ],
   "source": [
    "df_faker['Profession'] = [fake.job() for _ in range(len(df_faker))]\n",
    "df_faker['Profession'].head()"
   ]
  },
  {
   "cell_type": "code",
   "execution_count": 74,
   "id": "6f7ba141",
   "metadata": {},
   "outputs": [
    {
     "data": {
      "text/html": [
       "<div>\n",
       "<style scoped>\n",
       "    .dataframe tbody tr th:only-of-type {\n",
       "        vertical-align: middle;\n",
       "    }\n",
       "\n",
       "    .dataframe tbody tr th {\n",
       "        vertical-align: top;\n",
       "    }\n",
       "\n",
       "    .dataframe thead th {\n",
       "        text-align: right;\n",
       "    }\n",
       "</style>\n",
       "<table border=\"1\" class=\"dataframe\">\n",
       "  <thead>\n",
       "    <tr style=\"text-align: right;\">\n",
       "      <th></th>\n",
       "      <th>Age</th>\n",
       "      <th>Age Group</th>\n",
       "    </tr>\n",
       "  </thead>\n",
       "  <tbody>\n",
       "    <tr>\n",
       "      <th>0</th>\n",
       "      <td>19</td>\n",
       "      <td>&lt;=20</td>\n",
       "    </tr>\n",
       "    <tr>\n",
       "      <th>1</th>\n",
       "      <td>21</td>\n",
       "      <td>20-40</td>\n",
       "    </tr>\n",
       "    <tr>\n",
       "      <th>2</th>\n",
       "      <td>20</td>\n",
       "      <td>&lt;=20</td>\n",
       "    </tr>\n",
       "    <tr>\n",
       "      <th>3</th>\n",
       "      <td>23</td>\n",
       "      <td>20-40</td>\n",
       "    </tr>\n",
       "    <tr>\n",
       "      <th>4</th>\n",
       "      <td>31</td>\n",
       "      <td>20-40</td>\n",
       "    </tr>\n",
       "    <tr>\n",
       "      <th>5</th>\n",
       "      <td>22</td>\n",
       "      <td>20-40</td>\n",
       "    </tr>\n",
       "    <tr>\n",
       "      <th>6</th>\n",
       "      <td>35</td>\n",
       "      <td>20-40</td>\n",
       "    </tr>\n",
       "    <tr>\n",
       "      <th>7</th>\n",
       "      <td>23</td>\n",
       "      <td>20-40</td>\n",
       "    </tr>\n",
       "    <tr>\n",
       "      <th>8</th>\n",
       "      <td>64</td>\n",
       "      <td>60-80</td>\n",
       "    </tr>\n",
       "    <tr>\n",
       "      <th>9</th>\n",
       "      <td>30</td>\n",
       "      <td>20-40</td>\n",
       "    </tr>\n",
       "  </tbody>\n",
       "</table>\n",
       "</div>"
      ],
      "text/plain": [
       "   Age Age Group\n",
       "0   19      <=20\n",
       "1   21     20-40\n",
       "2   20      <=20\n",
       "3   23     20-40\n",
       "4   31     20-40\n",
       "5   22     20-40\n",
       "6   35     20-40\n",
       "7   23     20-40\n",
       "8   64     60-80\n",
       "9   30     20-40"
      ]
     },
     "execution_count": 74,
     "metadata": {},
     "output_type": "execute_result"
    }
   ],
   "source": [
    "bins = [0, 20, 40, 60, 80, 100] \n",
    "labels = [\"<=20\", \"20-40\", \"40-60\", \"60-80\", \"80+\"]\n",
    "df_gen = df.copy()\n",
    "df_gen['Age Group'] = pd.cut(df_gen['Age'], bins=bins, labels=labels)\n",
    "\n",
    "df_gen[['Age', 'Age Group']].head(10)"
   ]
  },
  {
   "cell_type": "code",
   "execution_count": 75,
   "id": "960b4841",
   "metadata": {},
   "outputs": [],
   "source": [
    "df_gen['Annual Income'] = df_gen['Annual Income'].astype(int)\n"
   ]
  },
  {
   "cell_type": "code",
   "execution_count": 78,
   "id": "5aa6e9ab",
   "metadata": {},
   "outputs": [
    {
     "data": {
      "text/html": [
       "<div>\n",
       "<style scoped>\n",
       "    .dataframe tbody tr th:only-of-type {\n",
       "        vertical-align: middle;\n",
       "    }\n",
       "\n",
       "    .dataframe tbody tr th {\n",
       "        vertical-align: top;\n",
       "    }\n",
       "\n",
       "    .dataframe thead th {\n",
       "        text-align: right;\n",
       "    }\n",
       "</style>\n",
       "<table border=\"1\" class=\"dataframe\">\n",
       "  <thead>\n",
       "    <tr style=\"text-align: right;\">\n",
       "      <th></th>\n",
       "      <th>Annual Income</th>\n",
       "      <th>Income Group</th>\n",
       "    </tr>\n",
       "  </thead>\n",
       "  <tbody>\n",
       "    <tr>\n",
       "      <th>0</th>\n",
       "      <td>15000</td>\n",
       "      <td>Low</td>\n",
       "    </tr>\n",
       "    <tr>\n",
       "      <th>1</th>\n",
       "      <td>35000</td>\n",
       "      <td>Low</td>\n",
       "    </tr>\n",
       "    <tr>\n",
       "      <th>2</th>\n",
       "      <td>86000</td>\n",
       "      <td>Medium</td>\n",
       "    </tr>\n",
       "    <tr>\n",
       "      <th>3</th>\n",
       "      <td>59000</td>\n",
       "      <td>Medium</td>\n",
       "    </tr>\n",
       "    <tr>\n",
       "      <th>4</th>\n",
       "      <td>38000</td>\n",
       "      <td>Low</td>\n",
       "    </tr>\n",
       "    <tr>\n",
       "      <th>...</th>\n",
       "      <td>...</td>\n",
       "      <td>...</td>\n",
       "    </tr>\n",
       "    <tr>\n",
       "      <th>1995</th>\n",
       "      <td>184387</td>\n",
       "      <td>High</td>\n",
       "    </tr>\n",
       "    <tr>\n",
       "      <th>1996</th>\n",
       "      <td>73158</td>\n",
       "      <td>Medium</td>\n",
       "    </tr>\n",
       "    <tr>\n",
       "      <th>1997</th>\n",
       "      <td>90961</td>\n",
       "      <td>Medium</td>\n",
       "    </tr>\n",
       "    <tr>\n",
       "      <th>1998</th>\n",
       "      <td>182109</td>\n",
       "      <td>High</td>\n",
       "    </tr>\n",
       "    <tr>\n",
       "      <th>1999</th>\n",
       "      <td>110610</td>\n",
       "      <td>High</td>\n",
       "    </tr>\n",
       "  </tbody>\n",
       "</table>\n",
       "<p>2000 rows × 2 columns</p>\n",
       "</div>"
      ],
      "text/plain": [
       "      Annual Income Income Group\n",
       "0             15000          Low\n",
       "1             35000          Low\n",
       "2             86000       Medium\n",
       "3             59000       Medium\n",
       "4             38000          Low\n",
       "...             ...          ...\n",
       "1995         184387         High\n",
       "1996          73158       Medium\n",
       "1997          90961       Medium\n",
       "1998         182109         High\n",
       "1999         110610         High\n",
       "\n",
       "[2000 rows x 2 columns]"
      ]
     },
     "execution_count": 78,
     "metadata": {},
     "output_type": "execute_result"
    }
   ],
   "source": [
    "bins_income = [0, 50000, 100000, 200000]\n",
    "labels_income = [\"Low\", \"Medium\", \"High\"]\n",
    "\n",
    "df_gen['Income Group'] = pd.cut(df_gen['Annual Income'], bins=bins_income, labels=labels_income)\n",
    "\n",
    "df_gen[['Annual Income', 'Income Group']] \n"
   ]
  },
  {
   "cell_type": "code",
   "execution_count": 80,
   "id": "31ddaddb",
   "metadata": {},
   "outputs": [
    {
     "data": {
      "text/html": [
       "<div>\n",
       "<style scoped>\n",
       "    .dataframe tbody tr th:only-of-type {\n",
       "        vertical-align: middle;\n",
       "    }\n",
       "\n",
       "    .dataframe tbody tr th {\n",
       "        vertical-align: top;\n",
       "    }\n",
       "\n",
       "    .dataframe thead th {\n",
       "        text-align: right;\n",
       "    }\n",
       "</style>\n",
       "<table border=\"1\" class=\"dataframe\">\n",
       "  <thead>\n",
       "    <tr style=\"text-align: right;\">\n",
       "      <th></th>\n",
       "      <th>Age</th>\n",
       "      <th>Age TBC</th>\n",
       "    </tr>\n",
       "  </thead>\n",
       "  <tbody>\n",
       "    <tr>\n",
       "      <th>0</th>\n",
       "      <td>19</td>\n",
       "      <td>&lt;20</td>\n",
       "    </tr>\n",
       "    <tr>\n",
       "      <th>1</th>\n",
       "      <td>21</td>\n",
       "      <td>21</td>\n",
       "    </tr>\n",
       "    <tr>\n",
       "      <th>2</th>\n",
       "      <td>20</td>\n",
       "      <td>20</td>\n",
       "    </tr>\n",
       "    <tr>\n",
       "      <th>3</th>\n",
       "      <td>23</td>\n",
       "      <td>23</td>\n",
       "    </tr>\n",
       "    <tr>\n",
       "      <th>4</th>\n",
       "      <td>31</td>\n",
       "      <td>31</td>\n",
       "    </tr>\n",
       "    <tr>\n",
       "      <th>...</th>\n",
       "      <td>...</td>\n",
       "      <td>...</td>\n",
       "    </tr>\n",
       "    <tr>\n",
       "      <th>1995</th>\n",
       "      <td>71</td>\n",
       "      <td>70+</td>\n",
       "    </tr>\n",
       "    <tr>\n",
       "      <th>1996</th>\n",
       "      <td>91</td>\n",
       "      <td>70+</td>\n",
       "    </tr>\n",
       "    <tr>\n",
       "      <th>1997</th>\n",
       "      <td>87</td>\n",
       "      <td>70+</td>\n",
       "    </tr>\n",
       "    <tr>\n",
       "      <th>1998</th>\n",
       "      <td>77</td>\n",
       "      <td>70+</td>\n",
       "    </tr>\n",
       "    <tr>\n",
       "      <th>1999</th>\n",
       "      <td>90</td>\n",
       "      <td>70+</td>\n",
       "    </tr>\n",
       "  </tbody>\n",
       "</table>\n",
       "<p>2000 rows × 2 columns</p>\n",
       "</div>"
      ],
      "text/plain": [
       "      Age Age TBC\n",
       "0      19     <20\n",
       "1      21      21\n",
       "2      20      20\n",
       "3      23      23\n",
       "4      31      31\n",
       "...   ...     ...\n",
       "1995   71     70+\n",
       "1996   91     70+\n",
       "1997   87     70+\n",
       "1998   77     70+\n",
       "1999   90     70+\n",
       "\n",
       "[2000 rows x 2 columns]"
      ]
     },
     "execution_count": 80,
     "metadata": {},
     "output_type": "execute_result"
    }
   ],
   "source": [
    "df_tbc = df.copy()\n",
    "\n",
    "df_tbc['Age TBC'] = df_tbc['Age'].apply(lambda x: \"<20\" if x < 20 else (\"70+\" if x > 70 else x))\n",
    "df_tbc[['Age', 'Age TBC']]\n"
   ]
  },
  {
   "cell_type": "code",
   "execution_count": 85,
   "id": "1a1c2a1c",
   "metadata": {},
   "outputs": [
    {
     "data": {
      "text/plain": [
       "array(['Healthcare', 'Engineer', 'Lawyer', 'Entertainment', 'Artist',\n",
       "       'Executive', 'Doctor', 'Homemaker', 'Marketing', nan], dtype=object)"
      ]
     },
     "execution_count": 85,
     "metadata": {},
     "output_type": "execute_result"
    }
   ],
   "source": [
    "df['Profession'].unique()"
   ]
  },
  {
   "cell_type": "code",
   "execution_count": 89,
   "id": "7f7f226c",
   "metadata": {},
   "outputs": [
    {
     "data": {
      "text/html": [
       "<div>\n",
       "<style scoped>\n",
       "    .dataframe tbody tr th:only-of-type {\n",
       "        vertical-align: middle;\n",
       "    }\n",
       "\n",
       "    .dataframe tbody tr th {\n",
       "        vertical-align: top;\n",
       "    }\n",
       "\n",
       "    .dataframe thead th {\n",
       "        text-align: right;\n",
       "    }\n",
       "</style>\n",
       "<table border=\"1\" class=\"dataframe\">\n",
       "  <thead>\n",
       "    <tr style=\"text-align: right;\">\n",
       "      <th></th>\n",
       "      <th>Profession</th>\n",
       "      <th>Profession Group</th>\n",
       "    </tr>\n",
       "  </thead>\n",
       "  <tbody>\n",
       "    <tr>\n",
       "      <th>0</th>\n",
       "      <td>Healthcare</td>\n",
       "      <td>Medical</td>\n",
       "    </tr>\n",
       "    <tr>\n",
       "      <th>1</th>\n",
       "      <td>Engineer</td>\n",
       "      <td>Technical</td>\n",
       "    </tr>\n",
       "    <tr>\n",
       "      <th>2</th>\n",
       "      <td>Engineer</td>\n",
       "      <td>Technical</td>\n",
       "    </tr>\n",
       "    <tr>\n",
       "      <th>3</th>\n",
       "      <td>Lawyer</td>\n",
       "      <td>Legal</td>\n",
       "    </tr>\n",
       "    <tr>\n",
       "      <th>4</th>\n",
       "      <td>Entertainment</td>\n",
       "      <td>Creative</td>\n",
       "    </tr>\n",
       "    <tr>\n",
       "      <th>5</th>\n",
       "      <td>Artist</td>\n",
       "      <td>Creative</td>\n",
       "    </tr>\n",
       "    <tr>\n",
       "      <th>6</th>\n",
       "      <td>Healthcare</td>\n",
       "      <td>Medical</td>\n",
       "    </tr>\n",
       "    <tr>\n",
       "      <th>7</th>\n",
       "      <td>Healthcare</td>\n",
       "      <td>Medical</td>\n",
       "    </tr>\n",
       "    <tr>\n",
       "      <th>8</th>\n",
       "      <td>Engineer</td>\n",
       "      <td>Technical</td>\n",
       "    </tr>\n",
       "    <tr>\n",
       "      <th>9</th>\n",
       "      <td>Artist</td>\n",
       "      <td>Creative</td>\n",
       "    </tr>\n",
       "  </tbody>\n",
       "</table>\n",
       "</div>"
      ],
      "text/plain": [
       "      Profession Profession Group\n",
       "0     Healthcare          Medical\n",
       "1       Engineer        Technical\n",
       "2       Engineer        Technical\n",
       "3         Lawyer            Legal\n",
       "4  Entertainment         Creative\n",
       "5         Artist         Creative\n",
       "6     Healthcare          Medical\n",
       "7     Healthcare          Medical\n",
       "8       Engineer        Technical\n",
       "9         Artist         Creative"
      ]
     },
     "execution_count": 89,
     "metadata": {},
     "output_type": "execute_result"
    }
   ],
   "source": [
    "profession_map = {\n",
    "    'Healthcare': 'Medical',\n",
    "    'Doctor': 'Medical',\n",
    "    'Engineer': 'Technical',\n",
    "    'Executive': 'Management',\n",
    "    'Lawyer': 'Legal',\n",
    "    'Artist': 'Creative',\n",
    "    'Entertainment': 'Creative',\n",
    "    'Marketing': 'Business',\n",
    "    'Homemaker': 'Other'\n",
    "}\n",
    "\n",
    "df_categorical = df_tbc.copy()\n",
    "df_categorical['Profession Group'] = df_categorical['Profession'].map(profession_map).fillna('Other')\n",
    "\n",
    "df_categorical[['Profession', 'Profession Group']].head(10)\n"
   ]
  },
  {
   "cell_type": "code",
   "execution_count": null,
   "id": "4fc60dae",
   "metadata": {},
   "outputs": [
    {
     "data": {
      "text/plain": [
       "Index(['CustomerID', 'Gender', 'Age', 'Annual Income', 'Spending Score',\n",
       "       'Profession', 'Work Experience', 'Family Size', 'Age TBC',\n",
       "       'Profession Group'],\n",
       "      dtype='object')"
      ]
     },
     "execution_count": 90,
     "metadata": {},
     "output_type": "execute_result"
    }
   ],
   "source": [
    "df_categorical.columns"
   ]
  },
  {
   "cell_type": "code",
   "execution_count": null,
   "id": "bf3f207b",
   "metadata": {},
   "outputs": [
    {
     "data": {
      "text/plain": [
       "1"
      ]
     },
     "execution_count": 121,
     "metadata": {},
     "output_type": "execute_result"
    }
   ],
   "source": [
    "qi_cols = ['Age TBC', 'Gender', 'Profession Group']\n",
    "k_values = df_categorical.groupby(qi_cols).size()\n",
    "min_k = k_values.min()\n",
    "min_k\n"
   ]
  },
  {
   "cell_type": "code",
   "execution_count": 113,
   "id": "c3aab788",
   "metadata": {},
   "outputs": [
    {
     "data": {
      "text/plain": [
       "MultiIndex([(20, 'Female',   'Business'),\n",
       "            (20, 'Female',      'Legal'),\n",
       "            (20, 'Female', 'Management'),\n",
       "            (20, 'Female',  'Technical'),\n",
       "            (20,   'Male',   'Business'),\n",
       "            (20,   'Male',      'Legal'),\n",
       "            (21, 'Female',   'Business'),\n",
       "            (21, 'Female',   'Creative'),\n",
       "            (21, 'Female', 'Management'),\n",
       "            (21,   'Male',   'Business'),\n",
       "            ...\n",
       "            (69,   'Male',      'Other'),\n",
       "            (70, 'Female',   'Business'),\n",
       "            (70, 'Female',      'Legal'),\n",
       "            (70, 'Female', 'Management'),\n",
       "            (70, 'Female',  'Technical'),\n",
       "            (70,   'Male',      'Legal'),\n",
       "            (70,   'Male', 'Management'),\n",
       "            (70,   'Male',    'Medical'),\n",
       "            (70,   'Male',      'Other'),\n",
       "            (70,   'Male',  'Technical')],\n",
       "           names=['Age TBC', 'Gender', 'Profession Group'], length=283)"
      ]
     },
     "execution_count": 113,
     "metadata": {},
     "output_type": "execute_result"
    }
   ],
   "source": [
    "violations = k_values[k_values < 3]\n",
    "violations.index"
   ]
  },
  {
   "cell_type": "code",
   "execution_count": 157,
   "id": "ec79b7a1",
   "metadata": {},
   "outputs": [
    {
     "data": {
      "text/plain": [
       "MultiIndex([('<20',   'Male',    'Medical'),\n",
       "            (   31, 'Female',   'Creative'),\n",
       "            (   22, 'Female',   'Creative'),\n",
       "            (   35, 'Female',    'Medical'),\n",
       "            (   30, 'Female',   'Creative'),\n",
       "            (   35, 'Female',    'Medical'),\n",
       "            (   24, 'Female',      'Legal'),\n",
       "            (   37,   'Male',    'Medical'),\n",
       "            (   20,   'Male',    'Medical'),\n",
       "            (   52,   'Male',   'Creative'),\n",
       "            ...\n",
       "            (   30, 'Female',   'Creative'),\n",
       "            ('70+', 'Female',   'Creative'),\n",
       "            ('70+',   'Male',   'Business'),\n",
       "            (   64, 'Female',   'Creative'),\n",
       "            ('<20', 'Female',  'Technical'),\n",
       "            ('70+', 'Female',   'Creative'),\n",
       "            ('70+', 'Female',    'Medical'),\n",
       "            ('70+',   'Male',    'Medical'),\n",
       "            ('70+',   'Male', 'Management'),\n",
       "            ('70+',   'Male',   'Creative')],\n",
       "           names=['Age TBC', 'Gender', 'Profession Group'], length=1618)"
      ]
     },
     "execution_count": 157,
     "metadata": {},
     "output_type": "execute_result"
    }
   ],
   "source": [
    "rare_groups = violations.index\n",
    "df_k = df_categorical.set_index(qi_cols)\n",
    "df_k = df_k[~df_k.index.isin(rare_groups)]\n",
    "\n",
    "df_k.index"
   ]
  },
  {
   "cell_type": "code",
   "execution_count": 118,
   "id": "0e97c6bc",
   "metadata": {},
   "outputs": [
    {
     "name": "stdout",
     "output_type": "stream",
     "text": [
      "3\n"
     ]
    }
   ],
   "source": [
    "k_values_new = df_k.groupby(qi_cols).size()\n",
    "\n",
    "min_k_new = k_values_new.min()\n",
    "print(min_k_new)\n"
   ]
  },
  {
   "cell_type": "code",
   "execution_count": 129,
   "id": "683d96aa",
   "metadata": {},
   "outputs": [
    {
     "name": "stdout",
     "output_type": "stream",
     "text": [
      "2000 | 1618\n"
     ]
    }
   ],
   "source": [
    "print(len(df_categorical) , \"|\", len(df_k))"
   ]
  },
  {
   "cell_type": "code",
   "execution_count": 136,
   "id": "ac80abe8",
   "metadata": {},
   "outputs": [
    {
     "data": {
      "text/html": [
       "<div>\n",
       "<style scoped>\n",
       "    .dataframe tbody tr th:only-of-type {\n",
       "        vertical-align: middle;\n",
       "    }\n",
       "\n",
       "    .dataframe tbody tr th {\n",
       "        vertical-align: top;\n",
       "    }\n",
       "\n",
       "    .dataframe thead th {\n",
       "        text-align: right;\n",
       "    }\n",
       "</style>\n",
       "<table border=\"1\" class=\"dataframe\">\n",
       "  <thead>\n",
       "    <tr style=\"text-align: right;\">\n",
       "      <th></th>\n",
       "      <th>Age TBC</th>\n",
       "      <th>Gender</th>\n",
       "      <th>Profession Group</th>\n",
       "    </tr>\n",
       "  </thead>\n",
       "  <tbody>\n",
       "    <tr>\n",
       "      <th>1608</th>\n",
       "      <td>30</td>\n",
       "      <td>Female</td>\n",
       "      <td>Creative</td>\n",
       "    </tr>\n",
       "    <tr>\n",
       "      <th>1609</th>\n",
       "      <td>70+</td>\n",
       "      <td>Female</td>\n",
       "      <td>Creative</td>\n",
       "    </tr>\n",
       "    <tr>\n",
       "      <th>1610</th>\n",
       "      <td>70+</td>\n",
       "      <td>Male</td>\n",
       "      <td>Business</td>\n",
       "    </tr>\n",
       "    <tr>\n",
       "      <th>1611</th>\n",
       "      <td>64</td>\n",
       "      <td>Female</td>\n",
       "      <td>Creative</td>\n",
       "    </tr>\n",
       "    <tr>\n",
       "      <th>1612</th>\n",
       "      <td>&lt;20</td>\n",
       "      <td>Female</td>\n",
       "      <td>Technical</td>\n",
       "    </tr>\n",
       "    <tr>\n",
       "      <th>1613</th>\n",
       "      <td>70+</td>\n",
       "      <td>Female</td>\n",
       "      <td>Creative</td>\n",
       "    </tr>\n",
       "    <tr>\n",
       "      <th>1614</th>\n",
       "      <td>70+</td>\n",
       "      <td>Female</td>\n",
       "      <td>Medical</td>\n",
       "    </tr>\n",
       "    <tr>\n",
       "      <th>1615</th>\n",
       "      <td>70+</td>\n",
       "      <td>Male</td>\n",
       "      <td>Medical</td>\n",
       "    </tr>\n",
       "    <tr>\n",
       "      <th>1616</th>\n",
       "      <td>70+</td>\n",
       "      <td>Male</td>\n",
       "      <td>Management</td>\n",
       "    </tr>\n",
       "    <tr>\n",
       "      <th>1617</th>\n",
       "      <td>70+</td>\n",
       "      <td>Male</td>\n",
       "      <td>Creative</td>\n",
       "    </tr>\n",
       "  </tbody>\n",
       "</table>\n",
       "</div>"
      ],
      "text/plain": [
       "     Age TBC  Gender Profession Group\n",
       "1608      30  Female         Creative\n",
       "1609     70+  Female         Creative\n",
       "1610     70+    Male         Business\n",
       "1611      64  Female         Creative\n",
       "1612     <20  Female        Technical\n",
       "1613     70+  Female         Creative\n",
       "1614     70+  Female          Medical\n",
       "1615     70+    Male          Medical\n",
       "1616     70+    Male       Management\n",
       "1617     70+    Male         Creative"
      ]
     },
     "execution_count": 136,
     "metadata": {},
     "output_type": "execute_result"
    }
   ],
   "source": [
    "df_k.reset_index()[qi_cols].tail(10)"
   ]
  },
  {
   "cell_type": "code",
   "execution_count": 139,
   "id": "aa160b64",
   "metadata": {},
   "outputs": [
    {
     "data": {
      "text/plain": [
       "Index(['CustomerID', 'Gender', 'Age', 'Annual Income ($)',\n",
       "       'Spending Score (1-100)', 'Profession', 'Work Experience',\n",
       "       'Family Size'],\n",
       "      dtype='object')"
      ]
     },
     "execution_count": 139,
     "metadata": {},
     "output_type": "execute_result"
    }
   ],
   "source": [
    "df_original = pd.read_csv(\"Customers.csv\")\n",
    "df = df_original.copy()\n",
    "\n",
    "df.columns"
   ]
  },
  {
   "cell_type": "code",
   "execution_count": 143,
   "id": "396273a3",
   "metadata": {},
   "outputs": [
    {
     "data": {
      "text/plain": [
       "0          1\n",
       "1          2\n",
       "2          3\n",
       "3          4\n",
       "4          5\n",
       "        ... \n",
       "1995    1996\n",
       "1996    1997\n",
       "1997    1998\n",
       "1998    1999\n",
       "1999    2000\n",
       "Name: CustomerID, Length: 2000, dtype: int64"
      ]
     },
     "execution_count": 143,
     "metadata": {},
     "output_type": "execute_result"
    }
   ],
   "source": [
    "df['CustomerID']"
   ]
  },
  {
   "cell_type": "code",
   "execution_count": 142,
   "id": "c9e5361b",
   "metadata": {},
   "outputs": [
    {
     "data": {
      "text/html": [
       "<div>\n",
       "<style scoped>\n",
       "    .dataframe tbody tr th:only-of-type {\n",
       "        vertical-align: middle;\n",
       "    }\n",
       "\n",
       "    .dataframe tbody tr th {\n",
       "        vertical-align: top;\n",
       "    }\n",
       "\n",
       "    .dataframe thead th {\n",
       "        text-align: right;\n",
       "    }\n",
       "</style>\n",
       "<table border=\"1\" class=\"dataframe\">\n",
       "  <thead>\n",
       "    <tr style=\"text-align: right;\">\n",
       "      <th></th>\n",
       "      <th>CustomerID</th>\n",
       "      <th>Hashed_CustomerID</th>\n",
       "    </tr>\n",
       "  </thead>\n",
       "  <tbody>\n",
       "    <tr>\n",
       "      <th>0</th>\n",
       "      <td>1</td>\n",
       "      <td>6b86b273ff34fce19d6b804eff5a3f5747ada4eaa22f1d...</td>\n",
       "    </tr>\n",
       "    <tr>\n",
       "      <th>1</th>\n",
       "      <td>2</td>\n",
       "      <td>d4735e3a265e16eee03f59718b9b5d03019c07d8b6c51f...</td>\n",
       "    </tr>\n",
       "    <tr>\n",
       "      <th>2</th>\n",
       "      <td>3</td>\n",
       "      <td>4e07408562bedb8b60ce05c1decfe3ad16b72230967de0...</td>\n",
       "    </tr>\n",
       "    <tr>\n",
       "      <th>3</th>\n",
       "      <td>4</td>\n",
       "      <td>4b227777d4dd1fc61c6f884f48641d02b4d121d3fd328c...</td>\n",
       "    </tr>\n",
       "    <tr>\n",
       "      <th>4</th>\n",
       "      <td>5</td>\n",
       "      <td>ef2d127de37b942baad06145e54b0c619a1f22327b2ebb...</td>\n",
       "    </tr>\n",
       "  </tbody>\n",
       "</table>\n",
       "</div>"
      ],
      "text/plain": [
       "   CustomerID                                  Hashed_CustomerID\n",
       "0           1  6b86b273ff34fce19d6b804eff5a3f5747ada4eaa22f1d...\n",
       "1           2  d4735e3a265e16eee03f59718b9b5d03019c07d8b6c51f...\n",
       "2           3  4e07408562bedb8b60ce05c1decfe3ad16b72230967de0...\n",
       "3           4  4b227777d4dd1fc61c6f884f48641d02b4d121d3fd328c...\n",
       "4           5  ef2d127de37b942baad06145e54b0c619a1f22327b2ebb..."
      ]
     },
     "execution_count": 142,
     "metadata": {},
     "output_type": "execute_result"
    }
   ],
   "source": [
    "import hashlib\n",
    "\n",
    "df['Hashed_CustomerID'] = df['CustomerID'].astype(str).apply(\n",
    "    lambda x: hashlib.sha256(x.encode()).hexdigest()\n",
    ")\n",
    "\n",
    "df[['CustomerID', 'Hashed_CustomerID']].head(5)\n"
   ]
  },
  {
   "cell_type": "code",
   "execution_count": null,
   "id": "22901485",
   "metadata": {},
   "outputs": [
    {
     "data": {
      "text/plain": [
       "0       b'gAAAAABoj6en62973_iK-o_3VmRMSBuhhV3uxI3v_zcT...\n",
       "1       b'gAAAAABoj6enC7YQ5k-Q3lXTvO2ddJN4NMkb9Q2Cze7w...\n",
       "2       b'gAAAAABoj6enS7BTCMpAqimq-2X9Pb-z75SP1fXTuIu4...\n",
       "3       b'gAAAAABoj6enbyoL39L_r3VFdVRbww-SPtqK49PtB2zM...\n",
       "4       b'gAAAAABoj6en6SiCfep7fJsS4_o-KZ0EPmCFjGzvmRGS...\n",
       "                              ...                        \n",
       "1995    b'gAAAAABoj6enFPlcJ6XaOixKLGMdKFVHSaPZfBn_oI_w...\n",
       "1996    b'gAAAAABoj6enDlYwnUQiWmGOga8yLTKWtwlVyEpAtAjH...\n",
       "1997    b'gAAAAABoj6en2LyvFCQ-rat0wzfofKoxOVzqgnqvunFM...\n",
       "1998    b'gAAAAABoj6end1dTliFQs0hVGWudiMSZolESv5GJlRo5...\n",
       "1999    b'gAAAAABoj6envkMLBf1Wbp3X6DmNT2hUcfguvOii58__...\n",
       "Name: Encrypted_CustomerID, Length: 2000, dtype: object"
      ]
     },
     "execution_count": 144,
     "metadata": {},
     "output_type": "execute_result"
    }
   ],
   "source": [
    "from cryptography.fernet import Fernet\n",
    "\n",
    "key = Fernet.generate_key()\n",
    "cipher = Fernet(key)\n",
    "\n",
    "df['Encrypted_CustomerID'] = df['CustomerID'].astype(str).apply(\n",
    "    lambda x: cipher.encrypt(x.encode())\n",
    ")\n",
    "\n",
    "df['Encrypted_CustomerID']\n"
   ]
  },
  {
   "cell_type": "code",
   "execution_count": 149,
   "id": "3eb08055",
   "metadata": {},
   "outputs": [
    {
     "data": {
      "text/plain": [
       "'3'"
      ]
     },
     "execution_count": 149,
     "metadata": {},
     "output_type": "execute_result"
    }
   ],
   "source": [
    "decrypted = df['Encrypted_CustomerID'].iloc[2]\n",
    "cipher.decrypt(decrypted).decode()"
   ]
  },
  {
   "cell_type": "code",
   "execution_count": 150,
   "id": "91d454a9",
   "metadata": {},
   "outputs": [
    {
     "data": {
      "text/plain": [
       "0           MQ==\n",
       "1           Mg==\n",
       "2           Mw==\n",
       "3           NA==\n",
       "4           NQ==\n",
       "          ...   \n",
       "1995    MTk5Ng==\n",
       "1996    MTk5Nw==\n",
       "1997    MTk5OA==\n",
       "1998    MTk5OQ==\n",
       "1999    MjAwMA==\n",
       "Name: Encoded_CustomerID, Length: 2000, dtype: object"
      ]
     },
     "execution_count": 150,
     "metadata": {},
     "output_type": "execute_result"
    }
   ],
   "source": [
    "import base64\n",
    "\n",
    "df['Encoded_CustomerID'] = df['CustomerID'].astype(str).apply(\n",
    "    lambda x: base64.b64encode(x.encode()).decode()\n",
    ")\n",
    "\n",
    "df['Encoded_CustomerID']"
   ]
  },
  {
   "cell_type": "code",
   "execution_count": 151,
   "id": "3716d789",
   "metadata": {},
   "outputs": [
    {
     "data": {
      "text/plain": [
       "'1'"
      ]
     },
     "execution_count": 151,
     "metadata": {},
     "output_type": "execute_result"
    }
   ],
   "source": [
    "decoded = base64.b64decode(df['Encoded_CustomerID'].iloc[0]).decode()\n",
    "decoded"
   ]
  }
 ],
 "metadata": {
  "kernelspec": {
   "display_name": "base",
   "language": "python",
   "name": "python3"
  },
  "language_info": {
   "codemirror_mode": {
    "name": "ipython",
    "version": 3
   },
   "file_extension": ".py",
   "mimetype": "text/x-python",
   "name": "python",
   "nbconvert_exporter": "python",
   "pygments_lexer": "ipython3",
   "version": "3.12.3"
  }
 },
 "nbformat": 4,
 "nbformat_minor": 5
}
